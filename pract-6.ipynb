{
 "cells": [
  {
   "cell_type": "markdown",
   "id": "05d5ebf9",
   "metadata": {
    "papermill": {
     "duration": 0.00298,
     "end_time": "2023-11-08T10:01:58.951600",
     "exception": false,
     "start_time": "2023-11-08T10:01:58.948620",
     "status": "completed"
    },
    "tags": []
   },
   "source": [
    "# 1. to convert a NumPy array to a Pandas series"
   ]
  },
  {
   "cell_type": "code",
   "execution_count": 1,
   "id": "4f008127",
   "metadata": {
    "execution": {
     "iopub.execute_input": "2023-11-08T10:01:58.960876Z",
     "iopub.status.busy": "2023-11-08T10:01:58.960508Z",
     "iopub.status.idle": "2023-11-08T10:01:59.321233Z",
     "shell.execute_reply": "2023-11-08T10:01:59.319870Z"
    },
    "papermill": {
     "duration": 0.370334,
     "end_time": "2023-11-08T10:01:59.324606",
     "exception": false,
     "start_time": "2023-11-08T10:01:58.954272",
     "status": "completed"
    },
    "tags": []
   },
   "outputs": [
    {
     "name": "stdout",
     "output_type": "stream",
     "text": [
      " Numpy Array :  [ 1  2  3  4  5  6  7  8  9 10]\n",
      " Pandas Series : \n",
      "0     1\n",
      "1     2\n",
      "2     3\n",
      "3     4\n",
      "4     5\n",
      "5     6\n",
      "6     7\n",
      "7     8\n",
      "8     9\n",
      "9    10\n",
      "dtype: int64\n"
     ]
    }
   ],
   "source": [
    "#NAME:SUMIT PANDIT\n",
    "import numpy as np\n",
    "import pandas as pd\n",
    "\n",
    "arr = np.array([1,2,3,4,5,6,7,8,9,10])\n",
    "\n",
    "# numpy array\n",
    "print(\" Numpy Array : \" , arr)\n",
    "\n",
    "# Convert numpy array to Pandas Series\n",
    "series = pd.Series(arr)\n",
    "\n",
    "print(\" Pandas Series : \")\n",
    "print(series)"
   ]
  },
  {
   "cell_type": "markdown",
   "id": "49ecccd5",
   "metadata": {
    "papermill": {
     "duration": 0.00268,
     "end_time": "2023-11-08T10:01:59.330447",
     "exception": false,
     "start_time": "2023-11-08T10:01:59.327767",
     "status": "completed"
    },
    "tags": []
   },
   "source": [
    "# 2. to convert the first column of a DataFrame as a Series"
   ]
  },
  {
   "cell_type": "code",
   "execution_count": 2,
   "id": "731e3d35",
   "metadata": {
    "execution": {
     "iopub.execute_input": "2023-11-08T10:01:59.337706Z",
     "iopub.status.busy": "2023-11-08T10:01:59.336428Z",
     "iopub.status.idle": "2023-11-08T10:01:59.352376Z",
     "shell.execute_reply": "2023-11-08T10:01:59.351204Z"
    },
    "papermill": {
     "duration": 0.0218,
     "end_time": "2023-11-08T10:01:59.354686",
     "exception": false,
     "start_time": "2023-11-08T10:01:59.332886",
     "status": "completed"
    },
    "tags": []
   },
   "outputs": [
    {
     "name": "stdout",
     "output_type": "stream",
     "text": [
      " Original DataFrame : \n",
      "   col1  col2  col3\n",
      "0     1    10    11\n",
      "1     2    20    22\n",
      "2     3    30    33\n",
      "3     4    40    44\n",
      " First column as Series\n",
      "0    1\n",
      "1    2\n",
      "2    3\n",
      "3    4\n",
      "Name: col1, dtype: int64\n"
     ]
    }
   ],
   "source": [
    "import pandas as pd\n",
    "\n",
    "d = {'col1': [1,2,3,4], 'col2': [10,20,30,40], 'col3': [11,22,33,44]}\n",
    "\n",
    "#Convert into DataFrame\n",
    "df = pd.DataFrame(data=d)\n",
    "\n",
    "print(\" Original DataFrame : \")\n",
    "print(df)\n",
    "\n",
    "# DataFrame as Series\n",
    "ser1 = df.iloc[:,0]\n",
    "\n",
    "print(\" First column as Series\")\n",
    "print(ser1)"
   ]
  },
  {
   "cell_type": "markdown",
   "id": "05a6ba14",
   "metadata": {
    "papermill": {
     "duration": 0.002718,
     "end_time": "2023-11-08T10:01:59.360323",
     "exception": false,
     "start_time": "2023-11-08T10:01:59.357605",
     "status": "completed"
    },
    "tags": []
   },
   "source": [
    "# 3. to create the mean and standard deviation of the data of a given Series"
   ]
  },
  {
   "cell_type": "code",
   "execution_count": 3,
   "id": "081e9a61",
   "metadata": {
    "execution": {
     "iopub.execute_input": "2023-11-08T10:01:59.368516Z",
     "iopub.status.busy": "2023-11-08T10:01:59.368059Z",
     "iopub.status.idle": "2023-11-08T10:01:59.378168Z",
     "shell.execute_reply": "2023-11-08T10:01:59.377123Z"
    },
    "papermill": {
     "duration": 0.017329,
     "end_time": "2023-11-08T10:01:59.380592",
     "exception": false,
     "start_time": "2023-11-08T10:01:59.363263",
     "status": "completed"
    },
    "tags": []
   },
   "outputs": [
    {
     "name": "stdout",
     "output_type": "stream",
     "text": [
      " Original Series Data : \n",
      "0     1\n",
      "1     2\n",
      "2     3\n",
      "3     4\n",
      "4     5\n",
      "5     6\n",
      "6     7\n",
      "7     8\n",
      "8     9\n",
      "9     5\n",
      "10    3\n",
      "dtype: int64\n",
      "Mean of Series Data :  4.818181818181818\n",
      "Standard Deviation of Series Data :  2.522624895547565\n"
     ]
    }
   ],
   "source": [
    "import pandas as pd\n",
    "\n",
    "ser = pd.Series(data = [1,2,3,4,5,6,7,8,9,5,3])\n",
    "\n",
    "print(\" Original Series Data : \")\n",
    "print(ser)\n",
    "\n",
    "# Mean of Series\n",
    "ser_mean = ser.mean()\n",
    "print(\"Mean of Series Data : \" , ser_mean)\n",
    "\n",
    "# Standard Deviation of Series\n",
    "ser_std = ser.std()\n",
    "print(\"Standard Deviation of Series Data : \" , ser_std)"
   ]
  },
  {
   "cell_type": "markdown",
   "id": "7c180317",
   "metadata": {
    "papermill": {
     "duration": 0.002776,
     "end_time": "2023-11-08T10:01:59.386617",
     "exception": false,
     "start_time": "2023-11-08T10:01:59.383841",
     "status": "completed"
    },
    "tags": []
   },
   "source": [
    "# 4. to sort a given Series"
   ]
  },
  {
   "cell_type": "code",
   "execution_count": 4,
   "id": "71949638",
   "metadata": {
    "execution": {
     "iopub.execute_input": "2023-11-08T10:01:59.393943Z",
     "iopub.status.busy": "2023-11-08T10:01:59.393582Z",
     "iopub.status.idle": "2023-11-08T10:01:59.404265Z",
     "shell.execute_reply": "2023-11-08T10:01:59.403081Z"
    },
    "papermill": {
     "duration": 0.017364,
     "end_time": "2023-11-08T10:01:59.406915",
     "exception": false,
     "start_time": "2023-11-08T10:01:59.389551",
     "status": "completed"
    },
    "tags": []
   },
   "outputs": [
    {
     "name": "stdout",
     "output_type": "stream",
     "text": [
      "Before Sote Series : \n",
      "0    100\n",
      "1     50\n",
      "2     20\n",
      "3     17\n",
      "4     71\n",
      "5     45\n",
      "dtype: int64\n",
      "\n",
      "After Sorted Series : \n",
      "3     17\n",
      "2     20\n",
      "5     45\n",
      "1     50\n",
      "4     71\n",
      "0    100\n",
      "dtype: int64\n"
     ]
    }
   ],
   "source": [
    "import pandas as pd\n",
    "\n",
    "ser = pd.Series(data = [100,50,20,17,71,45])\n",
    "\n",
    "print(\"Before Sote Series : \")\n",
    "print(ser)\n",
    "\n",
    "#Sort a Series\n",
    "sort_ser = ser.sort_values()\n",
    "\n",
    "print(\"\\nAfter Sorted Series : \")\n",
    "print(sort_ser)"
   ]
  }
 ],
 "metadata": {
  "kernelspec": {
   "display_name": "Python 3",
   "language": "python",
   "name": "python3"
  },
  "language_info": {
   "codemirror_mode": {
    "name": "ipython",
    "version": 3
   },
   "file_extension": ".py",
   "mimetype": "text/x-python",
   "name": "python",
   "nbconvert_exporter": "python",
   "pygments_lexer": "ipython3",
   "version": "3.10.12"
  },
  "papermill": {
   "default_parameters": {},
   "duration": 4.100063,
   "end_time": "2023-11-08T10:01:59.828978",
   "environment_variables": {},
   "exception": null,
   "input_path": "__notebook__.ipynb",
   "output_path": "__notebook__.ipynb",
   "parameters": {},
   "start_time": "2023-11-08T10:01:55.728915",
   "version": "2.4.0"
  }
 },
 "nbformat": 4,
 "nbformat_minor": 5
}
