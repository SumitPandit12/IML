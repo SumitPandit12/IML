{
 "cells": [
  {
   "cell_type": "markdown",
   "id": "0d3071b4",
   "metadata": {
    "papermill": {
     "duration": 0.003561,
     "end_time": "2023-11-08T09:57:45.286897",
     "exception": false,
     "start_time": "2023-11-08T09:57:45.283336",
     "status": "completed"
    },
    "tags": []
   },
   "source": [
    "# 1. write a numpy program to convert list into numpy one dimensional array"
   ]
  },
  {
   "cell_type": "code",
   "execution_count": 1,
   "id": "55e4cd64",
   "metadata": {
    "execution": {
     "iopub.execute_input": "2023-11-08T09:57:45.296883Z",
     "iopub.status.busy": "2023-11-08T09:57:45.296401Z",
     "iopub.status.idle": "2023-11-08T09:57:45.312579Z",
     "shell.execute_reply": "2023-11-08T09:57:45.311556Z"
    },
    "papermill": {
     "duration": 0.025191,
     "end_time": "2023-11-08T09:57:45.315271",
     "exception": false,
     "start_time": "2023-11-08T09:57:45.290080",
     "status": "completed"
    },
    "tags": []
   },
   "outputs": [
    {
     "name": "stdout",
     "output_type": "stream",
     "text": [
      " PYTHON LIST :  [1, 2, 3, 4, 5, 6, 7, 8, 9, 10]\n",
      "\n",
      " CONVERTED NUMPY ARRAY :  [ 1  2  3  4  5  6  7  8  9 10]\n",
      "\n",
      " CHECKING DIMENSION OF NUMPY ARRAY :  1\n"
     ]
    }
   ],
   "source": [
    "#SUMIT PANDIT\n",
    "import numpy as np\n",
    "\n",
    "# creating list of numeric values \n",
    "a = [1,2,3,4,5,6,7,8,9,10]\n",
    "\n",
    "# printing list \n",
    "print(\" PYTHON LIST : \",a)\n",
    "\n",
    "# converting list a into nupmy numeric array \n",
    "converted_list_into_array = np.array(a)\n",
    "print()\n",
    "\n",
    "# printing new numpy array\n",
    "print(\" CONVERTED NUMPY ARRAY : \",converted_list_into_array)\n",
    "print()\n",
    "\n",
    "#cheking dimension of converted list \n",
    "#ndim is used to check the dimension of numpy array\n",
    "print(\" CHECKING DIMENSION OF NUMPY ARRAY : \",converted_list_into_array.ndim)"
   ]
  },
  {
   "cell_type": "markdown",
   "id": "72a05370",
   "metadata": {
    "papermill": {
     "duration": 0.002902,
     "end_time": "2023-11-08T09:57:45.321446",
     "exception": false,
     "start_time": "2023-11-08T09:57:45.318544",
     "status": "completed"
    },
    "tags": []
   },
   "source": [
    "# 2. write a Numpy program to create a 3x3 matrix with values ranging from 2 to 10"
   ]
  },
  {
   "cell_type": "code",
   "execution_count": 2,
   "id": "e7578998",
   "metadata": {
    "execution": {
     "iopub.execute_input": "2023-11-08T09:57:45.329940Z",
     "iopub.status.busy": "2023-11-08T09:57:45.329157Z",
     "iopub.status.idle": "2023-11-08T09:57:45.336864Z",
     "shell.execute_reply": "2023-11-08T09:57:45.335535Z"
    },
    "papermill": {
     "duration": 0.014914,
     "end_time": "2023-11-08T09:57:45.339414",
     "exception": false,
     "start_time": "2023-11-08T09:57:45.324500",
     "status": "completed"
    },
    "tags": []
   },
   "outputs": [
    {
     "name": "stdout",
     "output_type": "stream",
     "text": [
      " ARRAY :  [ 2  3  4  5  6  7  8  9 10]\n",
      "\n",
      " 3 X 3 MATRIX : \n",
      "\n",
      "[[ 2  3  4]\n",
      " [ 5  6  7]\n",
      " [ 8  9 10]]\n"
     ]
    }
   ],
   "source": [
    "import numpy as np \n",
    "\n",
    "# arange() function is used to create array within given range \n",
    "array = np.arange(2,11)\n",
    "\n",
    "#printing crated array\n",
    "print(\" ARRAY : \",array)\n",
    "print()\n",
    "\n",
    "# now reshapeing the created array into 3 X 3 matrix \n",
    "matrix_array = array.reshape(3,3)\n",
    "\n",
    "# now printing the matrix_array \n",
    "print(\" 3 X 3 MATRIX : \")\n",
    "print()\n",
    "print(matrix_array)"
   ]
  },
  {
   "cell_type": "markdown",
   "id": "7496ea41",
   "metadata": {
    "papermill": {
     "duration": 0.003072,
     "end_time": "2023-11-08T09:57:45.345844",
     "exception": false,
     "start_time": "2023-11-08T09:57:45.342772",
     "status": "completed"
    },
    "tags": []
   },
   "source": [
    "# 3. write a program to append values at the end of the array"
   ]
  },
  {
   "cell_type": "code",
   "execution_count": 3,
   "id": "f89975de",
   "metadata": {
    "execution": {
     "iopub.execute_input": "2023-11-08T09:57:45.354582Z",
     "iopub.status.busy": "2023-11-08T09:57:45.353705Z",
     "iopub.status.idle": "2023-11-08T09:57:45.361213Z",
     "shell.execute_reply": "2023-11-08T09:57:45.360118Z"
    },
    "papermill": {
     "duration": 0.014523,
     "end_time": "2023-11-08T09:57:45.363730",
     "exception": false,
     "start_time": "2023-11-08T09:57:45.349207",
     "status": "completed"
    },
    "tags": []
   },
   "outputs": [
    {
     "name": "stdout",
     "output_type": "stream",
     "text": [
      "\n",
      " ARRAY BEFORE APPENDING THE VALUES :  [1 2 3 4 5]\n",
      "\n",
      " ARRAY AFTER APPENDING THE VALUES  :  [1 2 3 4 5 6 7]\n"
     ]
    }
   ],
   "source": [
    "import numpy as np\n",
    "\n",
    "# creating array with the help of np.array \n",
    "array = np.array([1,2,3,4,5])\n",
    "\n",
    "#appending values in array\n",
    "array2 = np.append(array, [6,7])\n",
    "print()\n",
    "\n",
    "# printing both array \n",
    "print(\" ARRAY BEFORE APPENDING THE VALUES : \",array)\n",
    "print()\n",
    "print(\" ARRAY AFTER APPENDING THE VALUES  : \",array2)"
   ]
  },
  {
   "cell_type": "markdown",
   "id": "d2fc4ed6",
   "metadata": {
    "papermill": {
     "duration": 0.003231,
     "end_time": "2023-11-08T09:57:45.370501",
     "exception": false,
     "start_time": "2023-11-08T09:57:45.367270",
     "status": "completed"
    },
    "tags": []
   },
   "source": [
    "# 4. write a program to create another shape from an array without changing its data(32 to 23)"
   ]
  },
  {
   "cell_type": "code",
   "execution_count": 4,
   "id": "abf5c7ce",
   "metadata": {
    "execution": {
     "iopub.execute_input": "2023-11-08T09:57:45.379603Z",
     "iopub.status.busy": "2023-11-08T09:57:45.378695Z",
     "iopub.status.idle": "2023-11-08T09:57:45.387034Z",
     "shell.execute_reply": "2023-11-08T09:57:45.385572Z"
    },
    "papermill": {
     "duration": 0.016572,
     "end_time": "2023-11-08T09:57:45.390532",
     "exception": false,
     "start_time": "2023-11-08T09:57:45.373960",
     "status": "completed"
    },
    "tags": []
   },
   "outputs": [
    {
     "name": "stdout",
     "output_type": "stream",
     "text": [
      "\n",
      " 3 X 2 ARRAY : \n",
      "[[1 2]\n",
      " [1 2]\n",
      " [1 2]]\n",
      "\n",
      " 2 X 3 ARRAY : \n",
      "[[1 2 1]\n",
      " [2 1 2]]\n"
     ]
    }
   ],
   "source": [
    "import numpy as np\n",
    "\n",
    "# creating 3 X 2 array \n",
    "array = np.array([ [1,2] , [1,2], [1,2] ])\n",
    "\n",
    "# now changing the shape of 3 X 2 array\n",
    "array2 = array.reshape(2,3)\n",
    "\n",
    "# printing both arrays\n",
    "print()\n",
    "print(\" 3 X 2 ARRAY : \")\n",
    "print(array)\n",
    "\n",
    "print()\n",
    "print(\" 2 X 3 ARRAY : \")\n",
    "print(array2)"
   ]
  }
 ],
 "metadata": {
  "kernelspec": {
   "display_name": "Python 3",
   "language": "python",
   "name": "python3"
  },
  "language_info": {
   "codemirror_mode": {
    "name": "ipython",
    "version": 3
   },
   "file_extension": ".py",
   "mimetype": "text/x-python",
   "name": "python",
   "nbconvert_exporter": "python",
   "pygments_lexer": "ipython3",
   "version": "3.10.12"
  },
  "papermill": {
   "default_parameters": {},
   "duration": 4.053494,
   "end_time": "2023-11-08T09:57:45.714590",
   "environment_variables": {},
   "exception": null,
   "input_path": "__notebook__.ipynb",
   "output_path": "__notebook__.ipynb",
   "parameters": {},
   "start_time": "2023-11-08T09:57:41.661096",
   "version": "2.4.0"
  }
 },
 "nbformat": 4,
 "nbformat_minor": 5
}
