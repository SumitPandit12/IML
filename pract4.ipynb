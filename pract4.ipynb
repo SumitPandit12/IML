{
 "cells": [
  {
   "cell_type": "markdown",
   "id": "f4292043",
   "metadata": {
    "papermill": {
     "duration": 0.003937,
     "end_time": "2023-11-08T09:59:23.907605",
     "exception": false,
     "start_time": "2023-11-08T09:59:23.903668",
     "status": "completed"
    },
    "tags": []
   },
   "source": [
    "# 1. to add, subtract, multiply, divide arguments element-wise"
   ]
  },
  {
   "cell_type": "code",
   "execution_count": 1,
   "id": "d8f1525a",
   "metadata": {
    "execution": {
     "iopub.execute_input": "2023-11-08T09:59:23.918994Z",
     "iopub.status.busy": "2023-11-08T09:59:23.918336Z",
     "iopub.status.idle": "2023-11-08T09:59:23.939424Z",
     "shell.execute_reply": "2023-11-08T09:59:23.937902Z"
    },
    "papermill": {
     "duration": 0.031341,
     "end_time": "2023-11-08T09:59:23.942583",
     "exception": false,
     "start_time": "2023-11-08T09:59:23.911242",
     "status": "completed"
    },
    "tags": []
   },
   "outputs": [
    {
     "name": "stdout",
     "output_type": "stream",
     "text": [
      " Addition of Array :  [5 7 9]\n",
      " Subtraction of Array :  [-3 -3 -3]\n",
      " Multiplication of Array :  [ 4 10 18]\n",
      " Division of Array :  [0.25 0.4  0.5 ]\n"
     ]
    }
   ],
   "source": [
    "#SUMIT PANDIT\n",
    "import numpy as np\n",
    "\n",
    "arr1 = np.array([1,2,3])\n",
    "arr2 = np.array([4,5,6])\n",
    "\n",
    "#Add Operation of arr1 and arr2\n",
    "res_add = arr1 + arr2\n",
    "print(\" Addition of Array : \" , res_add)\n",
    "\n",
    "#Subtract Operation of arr1 and arr2\n",
    "res_sub = arr1 - arr2\n",
    "print(\" Subtraction of Array : \" , res_sub)\n",
    "\n",
    "#Multiplication Operation of arr1 and arr2\n",
    "res_mul = arr1 * arr2\n",
    "print(\" Multiplication of Array : \" ,res_mul)\n",
    "\n",
    "#Division Operation of arr1 and arr2\n",
    "res_div = arr1 / arr2\n",
    "print(\" Division of Array : \" , res_div)"
   ]
  },
  {
   "cell_type": "markdown",
   "id": "25d5245a",
   "metadata": {
    "papermill": {
     "duration": 0.003151,
     "end_time": "2023-11-08T09:59:23.949266",
     "exception": false,
     "start_time": "2023-11-08T09:59:23.946115",
     "status": "completed"
    },
    "tags": []
   },
   "source": [
    "# 2. to round elements of the array to the nearest integer"
   ]
  },
  {
   "cell_type": "code",
   "execution_count": 2,
   "id": "0d62e790",
   "metadata": {
    "execution": {
     "iopub.execute_input": "2023-11-08T09:59:23.957954Z",
     "iopub.status.busy": "2023-11-08T09:59:23.957530Z",
     "iopub.status.idle": "2023-11-08T09:59:23.965098Z",
     "shell.execute_reply": "2023-11-08T09:59:23.963957Z"
    },
    "papermill": {
     "duration": 0.01561,
     "end_time": "2023-11-08T09:59:23.968316",
     "exception": false,
     "start_time": "2023-11-08T09:59:23.952706",
     "status": "completed"
    },
    "tags": []
   },
   "outputs": [
    {
     "name": "stdout",
     "output_type": "stream",
     "text": [
      " Round Using np.round()  :  [2. 3. 3. 5. 9.]\n",
      " Round Using np.rint()  :  [2. 3. 3. 5. 9.]\n"
     ]
    }
   ],
   "source": [
    "import numpy as np\n",
    "\n",
    "arr = np.array([1.5, 2.7, 3.2, 5.4, 9.1])\n",
    "\n",
    "#Using Round Method\n",
    "res_rou = np.round(arr)\n",
    "print(\" Round Using np.round()  : \" , res_rou)\n",
    "\n",
    "#Using Rint Mehtod\n",
    "res_rin = np.rint(arr)\n",
    "print(\" Round Using np.rint()  : \" , res_rin)"
   ]
  },
  {
   "cell_type": "markdown",
   "id": "9e8ef32b",
   "metadata": {
    "papermill": {
     "duration": 0.003285,
     "end_time": "2023-11-08T09:59:23.975230",
     "exception": false,
     "start_time": "2023-11-08T09:59:23.971945",
     "status": "completed"
    },
    "tags": []
   },
   "source": [
    "# 3. to calculate mean across dimension, in a 2D numpy array"
   ]
  },
  {
   "cell_type": "code",
   "execution_count": 3,
   "id": "5033ec87",
   "metadata": {
    "execution": {
     "iopub.execute_input": "2023-11-08T09:59:23.983845Z",
     "iopub.status.busy": "2023-11-08T09:59:23.983417Z",
     "iopub.status.idle": "2023-11-08T09:59:23.991479Z",
     "shell.execute_reply": "2023-11-08T09:59:23.990270Z"
    },
    "papermill": {
     "duration": 0.016142,
     "end_time": "2023-11-08T09:59:23.994768",
     "exception": false,
     "start_time": "2023-11-08T09:59:23.978626",
     "status": "completed"
    },
    "tags": []
   },
   "outputs": [
    {
     "name": "stdout",
     "output_type": "stream",
     "text": [
      " Mean across axis 0 :  [2.5 3.5 4.5]\n",
      " Mean across axis 1 :  [2. 5.]\n"
     ]
    }
   ],
   "source": [
    "import numpy as np\n",
    "\n",
    "arr = np.array([[1,2,3], [4,5,6]])\n",
    "\n",
    "#Mean Across using np.mean() Method Axis 0\n",
    "mean_0 = np.mean(arr, axis=0)\n",
    "print(\" Mean across axis 0 : \" , mean_0)\n",
    "\n",
    "#Mean Across using np,mean() Method Axis 1\n",
    "mean_1 = np.mean(arr, axis=1)\n",
    "print(\" Mean across axis 1 : \" , mean_1)"
   ]
  },
  {
   "cell_type": "markdown",
   "id": "aeca2591",
   "metadata": {
    "papermill": {
     "duration": 0.003471,
     "end_time": "2023-11-08T09:59:24.002020",
     "exception": false,
     "start_time": "2023-11-08T09:59:23.998549",
     "status": "completed"
    },
    "tags": []
   },
   "source": [
    "# 4.  calculate the difference between neighboring elements, element wise of a given array"
   ]
  },
  {
   "cell_type": "code",
   "execution_count": 4,
   "id": "5685627c",
   "metadata": {
    "execution": {
     "iopub.execute_input": "2023-11-08T09:59:24.011034Z",
     "iopub.status.busy": "2023-11-08T09:59:24.010598Z",
     "iopub.status.idle": "2023-11-08T09:59:24.018933Z",
     "shell.execute_reply": "2023-11-08T09:59:24.017811Z"
    },
    "papermill": {
     "duration": 0.016019,
     "end_time": "2023-11-08T09:59:24.021610",
     "exception": false,
     "start_time": "2023-11-08T09:59:24.005591",
     "status": "completed"
    },
    "tags": []
   },
   "outputs": [
    {
     "name": "stdout",
     "output_type": "stream",
     "text": [
      " Difference of One Dimension :  [1 1]\n",
      " Difference of Two Dimension : \n",
      "[[4 2]\n",
      " [6 6]]\n"
     ]
    }
   ],
   "source": [
    "import numpy as np\n",
    "\n",
    "arr = np.array([1,2,3])\n",
    "\n",
    "#difference of one dimension array\n",
    "arr_diff = np.diff(arr)\n",
    "print(\" Difference of One Dimension : \" , arr_diff)\n",
    "\n",
    "#difference of two dimesnion array\n",
    "arr1 = np.array([[4,8,10], [7,13,19]])\n",
    "arr1_diff = np.diff(arr1)\n",
    "print(\" Difference of Two Dimension : \")\n",
    "print(arr1_diff)"
   ]
  }
 ],
 "metadata": {
  "kernelspec": {
   "display_name": "Python 3",
   "language": "python",
   "name": "python3"
  },
  "language_info": {
   "codemirror_mode": {
    "name": "ipython",
    "version": 3
   },
   "file_extension": ".py",
   "mimetype": "text/x-python",
   "name": "python",
   "nbconvert_exporter": "python",
   "pygments_lexer": "ipython3",
   "version": "3.10.12"
  },
  "papermill": {
   "default_parameters": {},
   "duration": 4.305784,
   "end_time": "2023-11-08T09:59:24.445272",
   "environment_variables": {},
   "exception": null,
   "input_path": "__notebook__.ipynb",
   "output_path": "__notebook__.ipynb",
   "parameters": {},
   "start_time": "2023-11-08T09:59:20.139488",
   "version": "2.4.0"
  }
 },
 "nbformat": 4,
 "nbformat_minor": 5
}
