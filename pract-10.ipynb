{
 "cells": [
  {
   "cell_type": "markdown",
   "id": "724c030e",
   "metadata": {
    "papermill": {
     "duration": 0.002283,
     "end_time": "2023-11-08T09:20:26.631312",
     "exception": false,
     "start_time": "2023-11-08T09:20:26.629029",
     "status": "completed"
    },
    "tags": []
   },
   "source": [
    "\n",
    "# 10. Write a Pandas program to implement following operation"
   ]
  },
  {
   "cell_type": "markdown",
   "id": "21099df3",
   "metadata": {
    "papermill": {
     "duration": 0.001476,
     "end_time": "2023-11-08T09:20:26.634709",
     "exception": false,
     "start_time": "2023-11-08T09:20:26.633233",
     "status": "completed"
    },
    "tags": []
   },
   "source": [
    "# i. to find and drop the missing values from the given dataset"
   ]
  },
  {
   "cell_type": "code",
   "execution_count": 1,
   "id": "babcbb1a",
   "metadata": {
    "execution": {
     "iopub.execute_input": "2023-11-08T09:20:26.641867Z",
     "iopub.status.busy": "2023-11-08T09:20:26.641225Z",
     "iopub.status.idle": "2023-11-08T09:20:26.962746Z",
     "shell.execute_reply": "2023-11-08T09:20:26.961845Z"
    },
    "papermill": {
     "duration": 0.326771,
     "end_time": "2023-11-08T09:20:26.964846",
     "exception": false,
     "start_time": "2023-11-08T09:20:26.638075",
     "status": "completed"
    },
    "tags": []
   },
   "outputs": [
    {
     "name": "stdout",
     "output_type": "stream",
     "text": [
      "Before Removing Missing Values \n",
      "        name            toy       born\n",
      "0   Superman            NaN        NaT\n",
      "1     Batman      Batmobile 1956-06-26\n",
      "2  Spiderman  Spiderman toy        NaT\n",
      "\n",
      "After Removing Missing Values \n",
      "     name        toy       born\n",
      "1  Batman  Batmobile 1956-06-26\n"
     ]
    }
   ],
   "source": [
    "#NAME:SUMIT PANDIT\n",
    "import pandas as pd\n",
    "import numpy as np\n",
    "\n",
    "# Dictionary\n",
    "dict = {\"name\": ['Superman', 'Batman', 'Spiderman'],\n",
    "                   \"toy\": [np.nan, 'Batmobile', 'Spiderman toy'],\n",
    "                   \"born\": [pd.NaT, pd.Timestamp(\"1956-06-26\"),\n",
    "                            pd.NaT] }\n",
    "\n",
    "# Converting into DataFrame\n",
    "df = pd.DataFrame(dict)\n",
    "\n",
    "# Before Remove Missing values\n",
    "print(\"Before Removing Missing Values \")\n",
    "print(df)\n",
    "\n",
    "# After Removing Missing Values\n",
    "print(\"\\nAfter Removing Missing Values \")\n",
    "print(df.dropna())"
   ]
  },
  {
   "cell_type": "markdown",
   "id": "e4a01c8c",
   "metadata": {
    "papermill": {
     "duration": 0.001825,
     "end_time": "2023-11-08T09:20:26.969000",
     "exception": false,
     "start_time": "2023-11-08T09:20:26.967175",
     "status": "completed"
    },
    "tags": []
   },
   "source": [
    "# ii. to remove the duplicates from the given dataset"
   ]
  },
  {
   "cell_type": "code",
   "execution_count": 2,
   "id": "455ca005",
   "metadata": {
    "execution": {
     "iopub.execute_input": "2023-11-08T09:20:26.974811Z",
     "iopub.status.busy": "2023-11-08T09:20:26.974326Z",
     "iopub.status.idle": "2023-11-08T09:20:26.995060Z",
     "shell.execute_reply": "2023-11-08T09:20:26.993863Z"
    },
    "papermill": {
     "duration": 0.02599,
     "end_time": "2023-11-08T09:20:26.996983",
     "exception": false,
     "start_time": "2023-11-08T09:20:26.970993",
     "status": "completed"
    },
    "tags": []
   },
   "outputs": [
    {
     "name": "stdout",
     "output_type": "stream",
     "text": [
      "Before Removing Duplicate Values \n",
      "      Name    ID\n",
      "0     Jhon  12.0\n",
      "1     Jhon  12.0\n",
      "2      NaN  30.0\n",
      "3  Micheal  40.0\n",
      "4  Micheal   NaN\n",
      "\n",
      "After Removing Duplicate Values \n",
      "      Name    ID\n",
      "0     Jhon  12.0\n",
      "2      NaN  30.0\n",
      "3  Micheal  40.0\n",
      "4  Micheal   NaN\n"
     ]
    }
   ],
   "source": [
    "# 216270307032 - Aditya Vara\n",
    "import pandas as pd\n",
    "import numpy as np\n",
    "\n",
    "# Dictionary\n",
    "dict = { 'Name' : ['Jhon','Jhon',np.nan,'Micheal','Micheal'],\n",
    "         'ID' : [12,12,30,40,np.nan] }\n",
    "\n",
    "# Converting into DataFrame\n",
    "df = pd.DataFrame(dict)\n",
    "\n",
    "# Before Remove Missing values\n",
    "print(\"Before Removing Duplicate Values \")\n",
    "print(df)\n",
    "\n",
    "# After Removing Missing Values\n",
    "print(\"\\nAfter Removing Duplicate Values \")\n",
    "print(df.drop_duplicates())"
   ]
  },
  {
   "cell_type": "code",
   "execution_count": null,
   "id": "0df76aab",
   "metadata": {
    "papermill": {
     "duration": 0.001851,
     "end_time": "2023-11-08T09:20:27.001016",
     "exception": false,
     "start_time": "2023-11-08T09:20:26.999165",
     "status": "completed"
    },
    "tags": []
   },
   "outputs": [],
   "source": []
  }
 ],
 "metadata": {
  "kernelspec": {
   "display_name": "Python 3",
   "language": "python",
   "name": "python3"
  },
  "language_info": {
   "codemirror_mode": {
    "name": "ipython",
    "version": 3
   },
   "file_extension": ".py",
   "mimetype": "text/x-python",
   "name": "python",
   "nbconvert_exporter": "python",
   "pygments_lexer": "ipython3",
   "version": "3.10.12"
  },
  "papermill": {
   "default_parameters": {},
   "duration": 3.544515,
   "end_time": "2023-11-08T09:20:27.426476",
   "environment_variables": {},
   "exception": null,
   "input_path": "__notebook__.ipynb",
   "output_path": "__notebook__.ipynb",
   "parameters": {},
   "start_time": "2023-11-08T09:20:23.881961",
   "version": "2.4.0"
  }
 },
 "nbformat": 4,
 "nbformat_minor": 5
}
