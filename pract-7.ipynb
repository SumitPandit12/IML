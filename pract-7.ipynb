{
 "cells": [
  {
   "cell_type": "markdown",
   "id": "d29ca447",
   "metadata": {
    "papermill": {
     "duration": 0.00402,
     "end_time": "2023-11-08T09:21:56.268045",
     "exception": false,
     "start_time": "2023-11-08T09:21:56.264025",
     "status": "completed"
    },
    "tags": []
   },
   "source": [
    "# 1. to create a dataframe from a dictionary and display it"
   ]
  },
  {
   "cell_type": "code",
   "execution_count": 1,
   "id": "7bed4e26",
   "metadata": {
    "execution": {
     "iopub.execute_input": "2023-11-08T09:21:56.279063Z",
     "iopub.status.busy": "2023-11-08T09:21:56.278425Z",
     "iopub.status.idle": "2023-11-08T09:21:56.716481Z",
     "shell.execute_reply": "2023-11-08T09:21:56.715001Z"
    },
    "papermill": {
     "duration": 0.447652,
     "end_time": "2023-11-08T09:21:56.719139",
     "exception": false,
     "start_time": "2023-11-08T09:21:56.271487",
     "status": "completed"
    },
    "tags": []
   },
   "outputs": [
    {
     "name": "stdout",
     "output_type": "stream",
     "text": [
      "    Name  Age    Enrollment\n",
      "0  Sumit   17  216270307049\n",
      "1  Dhruv   18  216270307058\n",
      "2  Daksh   17  216270307076\n"
     ]
    }
   ],
   "source": [
    "#SUMIT PANDIT\n",
    "import pandas as pd\n",
    "import numpy as np\n",
    "\n",
    "details = {\n",
    "    'Name' : ['Sumit', 'Dhruv', 'Daksh'],\n",
    "    'Age' : [17, 18, 17],\n",
    "    'Enrollment' : [216270307049, 216270307058, 216270307076]\n",
    "}\n",
    "\n",
    "print(pd.DataFrame(details, columns = ['Name', 'Age', 'Enrollment']))"
   ]
  },
  {
   "cell_type": "markdown",
   "id": "0cd051f3",
   "metadata": {
    "papermill": {
     "duration": 0.00342,
     "end_time": "2023-11-08T09:21:56.726068",
     "exception": false,
     "start_time": "2023-11-08T09:21:56.722648",
     "status": "completed"
    },
    "tags": []
   },
   "source": [
    "# 2. to sort the DataFrame first by 'name' in ascending order"
   ]
  },
  {
   "cell_type": "code",
   "execution_count": 2,
   "id": "668a2dfb",
   "metadata": {
    "execution": {
     "iopub.execute_input": "2023-11-08T09:21:56.734605Z",
     "iopub.status.busy": "2023-11-08T09:21:56.734052Z",
     "iopub.status.idle": "2023-11-08T09:21:56.751670Z",
     "shell.execute_reply": "2023-11-08T09:21:56.750206Z"
    },
    "papermill": {
     "duration": 0.024883,
     "end_time": "2023-11-08T09:21:56.754336",
     "exception": false,
     "start_time": "2023-11-08T09:21:56.729453",
     "status": "completed"
    },
    "tags": []
   },
   "outputs": [
    {
     "name": "stdout",
     "output_type": "stream",
     "text": [
      "    Name  Age    Enrollment\n",
      "2  Daksh   17  216270307076\n",
      "1  Dhruv   18  216270307058\n",
      "0  Sumit   17  216270307049\n"
     ]
    }
   ],
   "source": [
    "import numpy as np\n",
    "import pandas as pd\n",
    "\n",
    "details = {\n",
    "    'Name' : ['Sumit', 'Dhruv', 'Daksh'],\n",
    "    'Age' : [17, 18, 17],\n",
    "    'Enrollment' : [216270307049, 216270307058, 216270307076]\n",
    "}\n",
    "\n",
    "print(pd.DataFrame(details, columns = ['Name', 'Age', 'Enrollment']).sort_values(by = ['Name']))"
   ]
  },
  {
   "cell_type": "markdown",
   "id": "cdbf3ae0",
   "metadata": {
    "papermill": {
     "duration": 0.003249,
     "end_time": "2023-11-08T09:21:56.761094",
     "exception": false,
     "start_time": "2023-11-08T09:21:56.757845",
     "status": "completed"
    },
    "tags": []
   },
   "source": [
    "# 3. to delete the one specific column from the DataFrame"
   ]
  },
  {
   "cell_type": "code",
   "execution_count": 3,
   "id": "27f844cd",
   "metadata": {
    "execution": {
     "iopub.execute_input": "2023-11-08T09:21:56.769873Z",
     "iopub.status.busy": "2023-11-08T09:21:56.769223Z",
     "iopub.status.idle": "2023-11-08T09:21:56.784543Z",
     "shell.execute_reply": "2023-11-08T09:21:56.783457Z"
    },
    "papermill": {
     "duration": 0.022719,
     "end_time": "2023-11-08T09:21:56.787100",
     "exception": false,
     "start_time": "2023-11-08T09:21:56.764381",
     "status": "completed"
    },
    "tags": []
   },
   "outputs": [
    {
     "name": "stdout",
     "output_type": "stream",
     "text": [
      "    Name    Enrollment\n",
      "0  Sumit  216270307049\n",
      "1  Dhruv  216270307058\n",
      "2  Daksh  216270307076\n"
     ]
    }
   ],
   "source": [
    "import pandas as pd\n",
    "import numpy as np\n",
    "\n",
    "details = {\n",
    "    'Name' : ['Sumit', 'Dhruv', 'Daksh'],\n",
    "    'Age' : [17, 18, 17],\n",
    "    'Enrollment' : [216270307049, 216270307058, 216270307076]\n",
    "}\n",
    "\n",
    "print(pd.DataFrame(details, columns = ['Name', 'Age', 'Enrollment']).drop(['Age'], axis = 1))"
   ]
  },
  {
   "cell_type": "markdown",
   "id": "f2c4737d",
   "metadata": {
    "papermill": {
     "duration": 0.003277,
     "end_time": "2023-11-08T09:21:56.793969",
     "exception": false,
     "start_time": "2023-11-08T09:21:56.790692",
     "status": "completed"
    },
    "tags": []
   },
   "source": [
    "# 4. to write a DataFrame to CSV file using tab separator"
   ]
  },
  {
   "cell_type": "code",
   "execution_count": 4,
   "id": "218079dc",
   "metadata": {
    "execution": {
     "iopub.execute_input": "2023-11-08T09:21:56.802984Z",
     "iopub.status.busy": "2023-11-08T09:21:56.802445Z",
     "iopub.status.idle": "2023-11-08T09:21:56.820176Z",
     "shell.execute_reply": "2023-11-08T09:21:56.818779Z"
    },
    "papermill": {
     "duration": 0.025037,
     "end_time": "2023-11-08T09:21:56.822448",
     "exception": false,
     "start_time": "2023-11-08T09:21:56.797411",
     "status": "completed"
    },
    "tags": []
   },
   "outputs": [
    {
     "name": "stdout",
     "output_type": "stream",
     "text": [
      "\n",
      "Data from Students.csv : \n",
      "       \\tName\\tAge\\tEnrollment\n",
      "0  0\\tSumit\\t17\\t216270307049\n",
      "1  1\\tDhruv\\t18\\t216270307058\n",
      "2  2\\tDaksh\\t17\\t216270307076\n"
     ]
    }
   ],
   "source": [
    "import pandas as pd\n",
    "import numpy as np\n",
    "\n",
    "details = {\n",
    "    'Name' : ['Sumit', 'Dhruv', 'Daksh'],\n",
    "    'Age' : [17, 18, 17],\n",
    "    'Enrollment' : [216270307049, 216270307058, 216270307076]\n",
    "}\n",
    "\n",
    "data_frame = pd.DataFrame(details, columns = ['Name', 'Age', 'Enrollment'])\n",
    "\n",
    "data_frame.to_csv('Details.csv', sep = '\\t') # Saving as a CSV file\n",
    " \n",
    "new_data_frame = pd.read_csv('Details.csv') # loading the CSV file\n",
    " \n",
    "print('\\nData from Students.csv : \\n', new_data_frame)"
   ]
  }
 ],
 "metadata": {
  "kernelspec": {
   "display_name": "Python 3",
   "language": "python",
   "name": "python3"
  },
  "language_info": {
   "codemirror_mode": {
    "name": "ipython",
    "version": 3
   },
   "file_extension": ".py",
   "mimetype": "text/x-python",
   "name": "python",
   "nbconvert_exporter": "python",
   "pygments_lexer": "ipython3",
   "version": "3.10.12"
  },
  "papermill": {
   "default_parameters": {},
   "duration": 4.636996,
   "end_time": "2023-11-08T09:21:57.246560",
   "environment_variables": {},
   "exception": null,
   "input_path": "__notebook__.ipynb",
   "output_path": "__notebook__.ipynb",
   "parameters": {},
   "start_time": "2023-11-08T09:21:52.609564",
   "version": "2.4.0"
  }
 },
 "nbformat": 4,
 "nbformat_minor": 5
}
