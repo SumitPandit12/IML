{
 "cells": [
  {
   "cell_type": "markdown",
   "id": "982ee3b3",
   "metadata": {
    "papermill": {
     "duration": 0.003092,
     "end_time": "2023-11-08T10:08:00.244770",
     "exception": false,
     "start_time": "2023-11-08T10:08:00.241678",
     "status": "completed"
    },
    "tags": []
   },
   "source": [
    "# 1. to split an array of 14 elements into 3 arrays, each with 2, 4, and 8 elements in the original order"
   ]
  },
  {
   "cell_type": "code",
   "execution_count": 1,
   "id": "7e15d059",
   "metadata": {
    "execution": {
     "iopub.execute_input": "2023-11-08T10:08:00.252386Z",
     "iopub.status.busy": "2023-11-08T10:08:00.251947Z",
     "iopub.status.idle": "2023-11-08T10:08:00.270190Z",
     "shell.execute_reply": "2023-11-08T10:08:00.268781Z"
    },
    "papermill": {
     "duration": 0.025714,
     "end_time": "2023-11-08T10:08:00.273224",
     "exception": false,
     "start_time": "2023-11-08T10:08:00.247510",
     "status": "completed"
    },
    "tags": []
   },
   "outputs": [
    {
     "name": "stdout",
     "output_type": "stream",
     "text": [
      "Splitted array in 2 :  [1 2]\n",
      "Splitted array in 4 :  [3 4 5 6]\n",
      "Splitted array in 8 :  [ 7  8  9 10 11 12 13 14]\n"
     ]
    }
   ],
   "source": [
    "import numpy as np\n",
    "\n",
    "#Array of 14 elements\n",
    "arr = np.array([1,2,3,4,5,6,7,8,9,10,11,12,13,14])\n",
    "\n",
    "#Split array in 2,4 and 8 group\n",
    "\n",
    "split_arr_2 = arr[:2]   # First 2 elements\n",
    "split_arr_4 = arr[2:6]  # Next 4 elements\n",
    "split_arr_8 = arr[6:]   # Remaining 8 elements\n",
    "\n",
    "print(\"Splitted array in 2 : \", split_arr_2)\n",
    "print(\"Splitted array in 4 : \", split_arr_4)\n",
    "print(\"Splitted array in 8 : \", split_arr_8)"
   ]
  },
  {
   "cell_type": "markdown",
   "id": "3992cbaf",
   "metadata": {
    "papermill": {
     "duration": 0.002298,
     "end_time": "2023-11-08T10:08:00.278295",
     "exception": false,
     "start_time": "2023-11-08T10:08:00.275997",
     "status": "completed"
    },
    "tags": []
   },
   "source": [
    "# 2. to stack arrays horizontally (column wise)"
   ]
  },
  {
   "cell_type": "code",
   "execution_count": 2,
   "id": "7c697e74",
   "metadata": {
    "execution": {
     "iopub.execute_input": "2023-11-08T10:08:00.285640Z",
     "iopub.status.busy": "2023-11-08T10:08:00.285190Z",
     "iopub.status.idle": "2023-11-08T10:08:00.292969Z",
     "shell.execute_reply": "2023-11-08T10:08:00.291640Z"
    },
    "papermill": {
     "duration": 0.015429,
     "end_time": "2023-11-08T10:08:00.296263",
     "exception": false,
     "start_time": "2023-11-08T10:08:00.280834",
     "status": "completed"
    },
    "tags": []
   },
   "outputs": [
    {
     "name": "stdout",
     "output_type": "stream",
     "text": [
      " Stack Array horizantal :  [ 1  2  3  4  5  6  7  8  9 10]\n"
     ]
    }
   ],
   "source": [
    "import numpy as np\n",
    "\n",
    "arr_1 = np.array([1,2,3,4,5])\n",
    "arr_2 = np.array([6,7,8,9,10])\n",
    "\n",
    "#Array stack arrays horizantal\n",
    "arr_stack = np.hstack((arr_1, arr_2))\n",
    "\n",
    "print(\" Stack Array horizantal : \" , arr_stack)"
   ]
  }
 ],
 "metadata": {
  "kernelspec": {
   "display_name": "Python 3",
   "language": "python",
   "name": "python3"
  },
  "language_info": {
   "codemirror_mode": {
    "name": "ipython",
    "version": 3
   },
   "file_extension": ".py",
   "mimetype": "text/x-python",
   "name": "python",
   "nbconvert_exporter": "python",
   "pygments_lexer": "ipython3",
   "version": "3.10.12"
  },
  "papermill": {
   "default_parameters": {},
   "duration": 4.529362,
   "end_time": "2023-11-08T10:08:00.721434",
   "environment_variables": {},
   "exception": null,
   "input_path": "__notebook__.ipynb",
   "output_path": "__notebook__.ipynb",
   "parameters": {},
   "start_time": "2023-11-08T10:07:56.192072",
   "version": "2.4.0"
  }
 },
 "nbformat": 4,
 "nbformat_minor": 5
}
