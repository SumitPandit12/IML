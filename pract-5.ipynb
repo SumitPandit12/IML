{
 "cells": [
  {
   "cell_type": "markdown",
   "id": "093e356a",
   "metadata": {
    "papermill": {
     "duration": 0.001886,
     "end_time": "2023-11-08T10:00:51.812300",
     "exception": false,
     "start_time": "2023-11-08T10:00:51.810414",
     "status": "completed"
    },
    "tags": []
   },
   "source": [
    "# 1. to find the maximum and minimum value of a given flattened array"
   ]
  },
  {
   "cell_type": "code",
   "execution_count": 1,
   "id": "fd124ee1",
   "metadata": {
    "execution": {
     "iopub.execute_input": "2023-11-08T10:00:51.817097Z",
     "iopub.status.busy": "2023-11-08T10:00:51.816531Z",
     "iopub.status.idle": "2023-11-08T10:00:51.827681Z",
     "shell.execute_reply": "2023-11-08T10:00:51.826817Z"
    },
    "papermill": {
     "duration": 0.015459,
     "end_time": "2023-11-08T10:00:51.829280",
     "exception": false,
     "start_time": "2023-11-08T10:00:51.813821",
     "status": "completed"
    },
    "tags": []
   },
   "outputs": [
    {
     "name": "stdout",
     "output_type": "stream",
     "text": [
      " Maximum Value of Array :  91\n",
      " Minimum Value of Array :  11\n"
     ]
    }
   ],
   "source": [
    "#NAME:SUMIT PANDIT\n",
    "import numpy as np\n",
    "\n",
    "arr = np.array([[11, 22, 36], [24, 45, 66], [27, 89, 91]])\n",
    "\n",
    "# Flatten the array\n",
    "flattened_arr = arr.flatten()\n",
    "\n",
    "# Find the maximum and minimum values\n",
    "max_value = np.max(flattened_arr)\n",
    "min_value = np.min(flattened_arr)\n",
    "\n",
    "print(\" Maximum Value of Array : \", max_value)\n",
    "print(\" Minimum Value of Array : \", min_value)"
   ]
  },
  {
   "cell_type": "markdown",
   "id": "0ff499af",
   "metadata": {
    "papermill": {
     "duration": 0.001284,
     "end_time": "2023-11-08T10:00:51.832040",
     "exception": false,
     "start_time": "2023-11-08T10:00:51.830756",
     "status": "completed"
    },
    "tags": []
   },
   "source": [
    "# 2. to compute the mean, standard deviation, and variance of a given array along the second axis"
   ]
  },
  {
   "cell_type": "code",
   "execution_count": 2,
   "id": "3f5c6a18",
   "metadata": {
    "execution": {
     "iopub.execute_input": "2023-11-08T10:00:51.836123Z",
     "iopub.status.busy": "2023-11-08T10:00:51.835537Z",
     "iopub.status.idle": "2023-11-08T10:00:51.841668Z",
     "shell.execute_reply": "2023-11-08T10:00:51.840828Z"
    },
    "papermill": {
     "duration": 0.009739,
     "end_time": "2023-11-08T10:00:51.843165",
     "exception": false,
     "start_time": "2023-11-08T10:00:51.833426",
     "status": "completed"
    },
    "tags": []
   },
   "outputs": [
    {
     "name": "stdout",
     "output_type": "stream",
     "text": [
      " Mean of Array :  [2. 5. 8.]\n",
      " Standard Deviation of Array :  [0.81649658 0.81649658 0.81649658]\n",
      " Variance of Array :  [0.66666667 0.66666667 0.66666667]\n"
     ]
    }
   ],
   "source": [
    "import numpy as np\n",
    "\n",
    "arr = np.array([[1,2,3], [4,5,6], [7,8,9]])\n",
    "\n",
    "# Mean of Array\n",
    "arr_mean = np.mean(arr, axis=1)\n",
    "print(\" Mean of Array : \" , arr_mean)\n",
    "\n",
    "# Standard Deviation of Array\n",
    "arr_std_div = np.std(arr, axis=1)\n",
    "print(\" Standard Deviation of Array : \" , arr_std_div)\n",
    "\n",
    "# Variance of Array\n",
    "arr_var = np.var(arr, axis=1)\n",
    "print(\" Variance of Array : \" , arr_var)"
   ]
  }
 ],
 "metadata": {
  "kernelspec": {
   "display_name": "Python 3",
   "language": "python",
   "name": "python3"
  },
  "language_info": {
   "codemirror_mode": {
    "name": "ipython",
    "version": 3
   },
   "file_extension": ".py",
   "mimetype": "text/x-python",
   "name": "python",
   "nbconvert_exporter": "python",
   "pygments_lexer": "ipython3",
   "version": "3.10.12"
  },
  "papermill": {
   "default_parameters": {},
   "duration": 2.620258,
   "end_time": "2023-11-08T10:00:52.060986",
   "environment_variables": {},
   "exception": null,
   "input_path": "__notebook__.ipynb",
   "output_path": "__notebook__.ipynb",
   "parameters": {},
   "start_time": "2023-11-08T10:00:49.440728",
   "version": "2.4.0"
  }
 },
 "nbformat": 4,
 "nbformat_minor": 5
}
