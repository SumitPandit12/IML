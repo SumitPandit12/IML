{
 "cells": [
  {
   "cell_type": "markdown",
   "id": "d740eb8f",
   "metadata": {
    "papermill": {
     "duration": 0.001562,
     "end_time": "2023-11-08T09:19:56.266951",
     "exception": false,
     "start_time": "2023-11-08T09:19:56.265389",
     "status": "completed"
    },
    "tags": []
   },
   "source": [
    "# 11. Write a Pandas program to filter all columns where all entries present, check which rows and columns has a NaN and finally drop rows with any NaNs from the given dataset."
   ]
  },
  {
   "cell_type": "code",
   "execution_count": 1,
   "id": "349a4954",
   "metadata": {
    "execution": {
     "iopub.execute_input": "2023-11-08T09:19:56.270734Z",
     "iopub.status.busy": "2023-11-08T09:19:56.270446Z",
     "iopub.status.idle": "2023-11-08T09:19:56.549783Z",
     "shell.execute_reply": "2023-11-08T09:19:56.549168Z"
    },
    "papermill": {
     "duration": 0.284777,
     "end_time": "2023-11-08T09:19:56.553025",
     "exception": false,
     "start_time": "2023-11-08T09:19:56.268248",
     "status": "completed"
    },
    "tags": []
   },
   "outputs": [
    {
     "name": "stdout",
     "output_type": "stream",
     "text": [
      "\n",
      "Filtered DataFrame with all entries present \n",
      "       Name\n",
      "0     Sumit\n",
      "1   Bhargav\n",
      "2  Chhayank\n",
      "3     Rohit\n",
      "4       Raj\n",
      "\n",
      "Rows with NaN values \n",
      "  Name  Enroll  Age\n",
      "4  Raj     NaN  NaN\n",
      "\n",
      "Columns with NaN values \n",
      "Index(['Enroll', 'Age'], dtype='object')\n",
      "\n",
      "Cleaned DataFrame with no NaN values \n",
      "       Name  Enroll   Age\n",
      "0     Sumit    32.0  18.0\n",
      "1   Bhargav    13.0  17.0\n",
      "2  Chhayank    17.0  20.0\n",
      "3     Rohit    12.0  21.0\n"
     ]
    }
   ],
   "source": [
    "#NAME:SUMIT PANDIT\n",
    "import pandas as pd\n",
    "import numpy as np\n",
    "\n",
    "# Creating Data\n",
    "data = {\n",
    " 'Name' : ['Sumit','Bhargav','Chhayank','Rohit','Raj'],\n",
    " 'Enroll' : [32, 13, 17, 12 , np.nan],\n",
    " 'Age' : [18,17,20,21,np.nan]\n",
    "}\n",
    "\n",
    "df = pd.DataFrame(data)\n",
    "filtered_data = df.dropna(axis=1, how='any')\n",
    "\n",
    "# Rows with Nan Values\n",
    "rows_nan = df[df.isnull().any(axis=1)]\n",
    "\n",
    "# Columns with Nan Values\n",
    "columns_nan = df.columns[df.isnull().any()]\n",
    "\n",
    "# Drop Nan Values\n",
    "df_cleaned = df.dropna()\n",
    "\n",
    "print(\"\\nFiltered DataFrame with all entries present \")\n",
    "print(filtered_data)\n",
    "\n",
    "print(\"\\nRows with NaN values \")\n",
    "print(rows_nan)\n",
    "\n",
    "print(\"\\nColumns with NaN values \")\n",
    "print(columns_nan)\n",
    "\n",
    "print(\"\\nCleaned DataFrame with no NaN values \")\n",
    "print(df_cleaned)"
   ]
  }
 ],
 "metadata": {
  "kernelspec": {
   "display_name": "Python 3",
   "language": "python",
   "name": "python3"
  },
  "language_info": {
   "codemirror_mode": {
    "name": "ipython",
    "version": 3
   },
   "file_extension": ".py",
   "mimetype": "text/x-python",
   "name": "python",
   "nbconvert_exporter": "python",
   "pygments_lexer": "ipython3",
   "version": "3.10.12"
  },
  "papermill": {
   "default_parameters": {},
   "duration": 2.968868,
   "end_time": "2023-11-08T09:19:56.871448",
   "environment_variables": {},
   "exception": null,
   "input_path": "__notebook__.ipynb",
   "output_path": "__notebook__.ipynb",
   "parameters": {},
   "start_time": "2023-11-08T09:19:53.902580",
   "version": "2.4.0"
  }
 },
 "nbformat": 4,
 "nbformat_minor": 5
}
